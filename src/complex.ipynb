{
 "cells": [
  {
   "cell_type": "code",
   "execution_count": 35,
   "metadata": {
    "collapsed": true
   },
   "outputs": [
    {
     "data": {
      "text/plain": "<IPython.core.display.Math object>",
      "text/latex": "$\\displaystyle (1)^{3} = \t(1+0j)^{3} \\Rightarrow 1$"
     },
     "metadata": {},
     "output_type": "display_data"
    },
    {
     "data": {
      "text/plain": "<IPython.core.display.Math object>",
      "text/latex": "$\\displaystyle (e^{0.666666666666667 i \\pi})^{3} = \t(-0.5+0.9j)^{3} \\Rightarrow e^{2.0 i \\pi}$"
     },
     "metadata": {},
     "output_type": "display_data"
    },
    {
     "data": {
      "text/plain": "<IPython.core.display.Math object>",
      "text/latex": "$\\displaystyle (e^{1.33333333333333 i \\pi})^{3} = \t(-0.5-0.9j)^{3} \\Rightarrow e^{4.0 i \\pi}$"
     },
     "metadata": {},
     "output_type": "display_data"
    },
    {
     "data": {
      "text/plain": "<Figure size 432x288 with 1 Axes>",
      "image/png": "[encoded data removed]"
     },
     "metadata": {
      "needs_background": "light"
     },
     "output_type": "display_data"
    }
   ],
   "source": [
    "import matplotlib.pyplot as plt\n",
    "import sympy as sym\n",
    "import numpy as np\n",
    "from IPython.display import display, Math\n",
    "\n",
    "\n",
    "\n",
    "def roots(n=5):\n",
    "    for k in range(n):\n",
    "        yield sym.exp(2 * sym.pi * 1j * k / n)\n",
    "\n",
    "\n",
    "def roots_numpy(n=5):\n",
    "    for k in range(n):\n",
    "        yield np.exp(2 * np.pi * 1j * k / n)\n",
    "\n",
    "roots()\n",
    "# assert 0, [ for k in range(n)\n",
    "    # root =\n",
    "\n",
    "n = 3\n",
    "\n",
    "for z, root in zip(roots(n), roots_numpy(n)):\n",
    "    display(Math(f\"({sym.latex(z)})^{{{n}}} = \\t{np.round(root, 1)}^{{{n}}} \\\\Rightarrow {sym.latex(z**n)}\"))\n",
    "    plt.plot([0, root.real], [0, root.imag])"
   ]
  }
 ],
 "metadata": {
  "kernelspec": {
   "display_name": "Python 3",
   "language": "python",
   "name": "python3"
  },
  "language_info": {
   "codemirror_mode": {
    "name": "ipython",
    "version": 2
   },
   "file_extension": ".py",
   "mimetype": "text/x-python",
   "name": "python",
   "nbconvert_exporter": "python",
   "pygments_lexer": "ipython2",
   "version": "2.7.6"
  }
 },
 "nbformat": 4,
 "nbformat_minor": 0
}